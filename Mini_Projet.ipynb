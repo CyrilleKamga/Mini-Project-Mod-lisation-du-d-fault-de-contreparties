{
 "cells": [
  {
   "cell_type": "markdown",
   "id": "4d9711d5",
   "metadata": {},
   "source": [
    "# Exercice "
   ]
  },
  {
   "cell_type": "code",
   "execution_count": 1,
   "id": "e8fc8334",
   "metadata": {},
   "outputs": [],
   "source": [
    "import numpy as np\n",
    "import pandas as pd\n",
    "import matplotlib.pyplot as plt\n",
    "from numpy.random import random_sample \n",
    "from scipy.stats import norm "
   ]
  },
  {
   "cell_type": "markdown",
   "id": "4907a81d",
   "metadata": {},
   "source": [
    "## Question 3 : \n"
   ]
  },
  {
   "cell_type": "code",
   "execution_count": 2,
   "id": "5aaff676",
   "metadata": {},
   "outputs": [],
   "source": [
    "# Calcul Proba Conditionnelle \n",
    "def probaCond_notation(k, n0, X, rho) : \n",
    "    M = np.matrix('0.7, 0.2, 0.05, 0.05; 0.15, 0.65, 0.1, 0.1; 0.05, 0.05, 0.7, 0.2; 0, 0, 0, 1')\n",
    "    #Matrice de transition cumulée \n",
    "    C = np.cumsum(M, 1)\n",
    "    if k == 0 : \n",
    "        c = 0\n",
    "    elif (set([k, n0]).issubset(set([0, 1, 2, 3]))) : \n",
    "        c = C[n0, k-1]\n",
    "    else : \n",
    "        return 0 \n",
    "    a = (norm.ppf(C[n0, k]) + np.sqrt(rho)*X)/np.sqrt(1-rho)\n",
    "    b = (norm.ppf(c) + np.sqrt(rho)*X)/np.sqrt(1-rho)\n",
    "    return norm.cdf(a) - norm.cdf(b)"
   ]
  },
  {
   "cell_type": "code",
   "execution_count": 4,
   "id": "b88c0158",
   "metadata": {},
   "outputs": [],
   "source": [
    "# Simulateur de l'ensemble des notes de toutes les entreprises \n",
    "def rv_note_cond (loi_n0, X, rho, N):\n",
    "    sample = np.zeros(N)\n",
    "    support = np.array([0, 1, 2, 3]) # Le support de la note aleatoire n_i\n",
    "    \n",
    "    if loi_n0 in [0, 1, 2, 3] :\n",
    "        probabilites = [probaCond_notation(k, loi_n0, X, rho) for k in range(4)] \n",
    "        sample = support[np.digitize(random_sample(N), np.cumsum(probabilites))]\n",
    "        \n",
    "       \n",
    "    elif (callable(loi_n0)) and (loi_n0(1) in [0, 1, 2, 3]) :  \n",
    "        Mat_proba = np.matrix(np.reshape([probaCond_notation(k, j, X, rho) for k in range(4) for j in range(3) ], (4,3))) \n",
    "        n0 = loi_n0(N)\n",
    "        u = random_sample(N)\n",
    "\n",
    "        sample[np.where(n0 == 0)[0]] = support[np.digitize(u[np.where(n0 == 0)[0]], np.cumsum([Mat_proba[:,0]]))]\n",
    "        sample[np.where(n0  == 1)[0]] = support[np.digitize(u[np.where(n0  == 1)[0]], np.cumsum([Mat_proba[:,1]]))]\n",
    "        sample[np.where(n0  == 2)[0]] = support[np.digitize(u[np.where(n0  == 2)[0]], np.cumsum([Mat_proba[:,2]]))]\n",
    "        \n",
    "    else : \n",
    "        print('Loi note initiale inappropriée ou arguments incompatible')\n",
    "        \n",
    "    return sample"
   ]
  },
  {
   "cell_type": "code",
   "execution_count": 26,
   "id": "e0b722dc",
   "metadata": {},
   "outputs": [],
   "source": [
    "#---Histogramme des réalisation pour n0 et X fixés\n",
    "def hist_note_UnAn(n0, rho, N):\n",
    "    x = np.random.normal()\n",
    "    Y = rv_note_cond (n0, x, rho, N)\n",
    "    Y = pd.DataFrame(Y)\n",
    "    a = Y.value_counts(sort=False)\n",
    "    a = a/len(500)\n",
    "    a.plot.bar(rot=1)\n",
    "    plt.title('Notes un an')\n",
    "    plt.xlabel('notes')\n",
    "    plt.ylabel('Probabilités')\n",
    "    plt.show()"
   ]
  },
  {
   "cell_type": "code",
   "execution_count": 27,
   "id": "76e19d7a",
   "metadata": {},
   "outputs": [
    {
     "data": {
      "image/png": "[encoded data removed]",
      "text/plain": [
       "<Figure size 432x288 with 1 Axes>"
      ]
     },
     "metadata": {
      "needs_background": "light"
     },
     "output_type": "display_data"
    }
   ],
   "source": [
    "n0, rho = 2,.5\n",
    "N = 500\n",
    "hist_note_UnAn(n0, rho, N)"
   ]
  },
  {
   "cell_type": "code",
   "execution_count": 20,
   "id": "a60a4dfa",
   "metadata": {},
   "outputs": [],
   "source": [
    "# Simulateur de la perte à un an \n",
    "def simu_perte(loi_n0, rho, N, Nmc):\n",
    "    X = np.random.normal(size = Nmc)\n",
    "    E = np.random.lognormal(size=(Nmc,N)) \n",
    "    Mat_notes = np.matrix(np.reshape([rv_note_cond (loi_n0, X[k], rho, N) for k in range(Nmc)], (Nmc,N))) \n",
    "    Mat_1_0 = np.multiply(Mat_notes==np.full((Nmc, N), 3), 1)\n",
    "    Product = np.mat(np.array(E) * np.array(Mat_1_0)) # Produit termes à termes \n",
    "    \n",
    "    return np.concatenate(np.sum(Product,axis=1).tolist())"
   ]
  },
  {
   "cell_type": "code",
   "execution_count": 31,
   "id": "7190c03c",
   "metadata": {},
   "outputs": [
    {
     "name": "stderr",
     "output_type": "stream",
     "text": [
      "C:\\Users\\ckamgata\\Anaconda3\\lib\\site-packages\\seaborn\\distributions.py:2619: FutureWarning: `distplot` is a deprecated function and will be removed in a future version. Please adapt your code to use either `displot` (a figure-level function with similar flexibility) or `histplot` (an axes-level function for histograms).\n",
      "  warnings.warn(msg, FutureWarning)\n"
     ]
    },
    {
     "data": {
      "text/plain": [
       "<AxesSubplot:ylabel='Density'>"
      ]
     },
     "execution_count": 31,
     "metadata": {},
     "output_type": "execute_result"
    },
    {
     "data": {
      "image/png": "[encoded data removed]",
      "text/plain": [
       "<Figure size 432x288 with 1 Axes>"
      ]
     },
     "metadata": {
      "needs_background": "light"
     },
     "output_type": "display_data"
    }
   ],
   "source": [
    "# fonction de répartition de la perte à un an \n",
    "import seaborn as sns  \n",
    "x = simu_perte(loi_n0, rho, N, Nmc)\n",
    "kwargs = {'cumulative': True} \n",
    "sns.distplot(x, hist_kws=kwargs, kde_kws=kwargs)"
   ]
  },
  {
   "cell_type": "code",
   "execution_count": 21,
   "id": "ad4b35cc",
   "metadata": {},
   "outputs": [],
   "source": [
    "# fonction quantile\n",
    "def quantile_L(alpha, loi_n0, rho, N, Nmc): \n",
    "    data = simu_perte(loi_n0, rho, N, Nmc)\n",
    "    return np.quantile(data, alpha)"
   ]
  },
  {
   "cell_type": "code",
   "execution_count": 22,
   "id": "e9c1f534",
   "metadata": {},
   "outputs": [],
   "source": [
    "# simulateur de loi uniforme discrete\n",
    "def Uniforme_discrete(N): \n",
    "    return np.random.randint(0, high = 3, size = N)"
   ]
  },
  {
   "cell_type": "code",
   "execution_count": 28,
   "id": "fe056e4c",
   "metadata": {},
   "outputs": [],
   "source": [
    "# conditions initiales \n",
    "alpha, rho = 0.65, 0.5\n",
    "loi_n0 = Uniforme_discrete \n",
    "N, Nmc = 1000, 10000"
   ]
  },
  {
   "cell_type": "code",
   "execution_count": 29,
   "id": "9abfa0d6",
   "metadata": {},
   "outputs": [
    {
     "data": {
      "text/plain": [
       "175.2178524758051"
      ]
     },
     "execution_count": 29,
     "metadata": {},
     "output_type": "execute_result"
    }
   ],
   "source": [
    "# Calcule du quantile d'ordre alpha = 0.65\n",
    "quantile_L(alpha, loi_n0, rho, N, Nmc)"
   ]
  },
  {
   "cell_type": "code",
   "execution_count": null,
   "id": "ac778961",
   "metadata": {},
   "outputs": [],
   "source": []
  }
 ],
 "metadata": {
  "kernelspec": {
   "display_name": "Python 3",
   "language": "python",
   "name": "python3"
  },
  "language_info": {
   "codemirror_mode": {
    "name": "ipython",
    "version": 3
   },
   "file_extension": ".py",
   "mimetype": "text/x-python",
   "name": "python",
   "nbconvert_exporter": "python",
   "pygments_lexer": "ipython3",
   "version": "3.8.8"
  }
 },
 "nbformat": 4,
 "nbformat_minor": 5
}
